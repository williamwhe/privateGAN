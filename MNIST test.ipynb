{
 "cells": [
  {
   "cell_type": "code",
   "execution_count": 1,
   "metadata": {
    "collapsed": true
   },
   "outputs": [],
   "source": [
    "import numpy as np\n",
    "from tensorflow.examples.tutorials.mnist import input_data"
   ]
  },
  {
   "cell_type": "code",
   "execution_count": 2,
   "metadata": {},
   "outputs": [
    {
     "name": "stdout",
     "output_type": "stream",
     "text": [
      "Extracting MNIST_data/train-images-idx3-ubyte.gz\n",
      "Extracting MNIST_data/train-labels-idx1-ubyte.gz\n",
      "Extracting MNIST_data/t10k-images-idx3-ubyte.gz\n",
      "Extracting MNIST_data/t10k-labels-idx1-ubyte.gz\n"
     ]
    }
   ],
   "source": [
    "def mix_and_prune(X, y, source, target):\n",
    "    source_idx = np.where(y[:, source] == 1)[0]\n",
    "    np.random.shuffle(source_idx)\n",
    "    target_idx = np.where(y[:, target] == 1)[0]\n",
    "    np.random.shuffle(target_idx)\n",
    "    final_idx = np.concatenate([\n",
    "        source_idx[:int(source_idx.shape[0]/2)],\n",
    "        target_idx[:int(target_idx.shape[0]/2)]])\n",
    "    all_idx = np.concatenate([source_idx, target_idx])\n",
    "    diff_idx = np.setdiff1d(all_idx, final_idx)\n",
    "    \n",
    "    X = np.delete(X, diff_idx, 0)\n",
    "    \n",
    "    y[final_idx,target] = 1\n",
    "    y = np.delete(y, diff_idx, 0)\n",
    "    y = np.delete(y, source, 1)\n",
    "    \n",
    "    return X, y\n",
    "    \n",
    "def odd_even(y):\n",
    "    res = np.zeros([y.shape[0], 2])\n",
    "    for i in range(5):\n",
    "        eve = 2 * i\n",
    "        odd = 2 * i + 1\n",
    "        res[y[:, eve] == 1, 0] = 1\n",
    "        res[y[:, odd] == 1, 1] = 1\n",
    "    \n",
    "    return res\n",
    "\n",
    "# Reading the MNIST data.\n",
    "mnist = input_data.read_data_sets('MNIST_data', one_hot=True)\n",
    "train_data =  mnist.train.images * 2.0 - 1.0\n",
    "train_label = mnist.train.labels\n",
    "\n",
    "test_data = mnist.test.images * 2.0 - 1.0\n",
    "test_label = mnist.test.labels\n",
    "\n",
    "# We now label digits ODD and EVEN only\n",
    "private_train_data = np.copy(train_data)\n",
    "private_train_label = odd_even(np.copy(train_label))\n",
    "\n",
    "private_test_data = np.copy(test_data)\n",
    "private_test_label = odd_even(np.copy(test_label))\n",
    "# source = 5\n",
    "# target = 6\n",
    "# private_train_data, private_train_label = mix_and_prune(\n",
    "#     np.copy(train_data), np.copy(train_label), source, target)\n",
    "\n",
    "# private_test_data, private_test_label = mix_and_prune(\n",
    "#     np.copy(test_data), np.copy(test_label), source, target)"
   ]
  },
  {
   "cell_type": "code",
   "execution_count": 3,
   "metadata": {},
   "outputs": [
    {
     "name": "stdout",
     "output_type": "stream",
     "text": [
      "Original data:\n",
      "\t#(0) = 980\n",
      "\t#(1) = 1135\n",
      "\t#(2) = 1032\n",
      "\t#(3) = 1010\n",
      "\t#(4) = 982\n",
      "\t#(5) = 892\n",
      "\t#(6) = 958\n",
      "\t#(7) = 1028\n",
      "\t#(8) = 974\n",
      "\t#(9) = 1009\n",
      "Private data:\n",
      "\t#(0) = 4926\n",
      "\t#(1) = 5074\n",
      "784\n",
      "784\n"
     ]
    }
   ],
   "source": [
    "print('Original data:')\n",
    "for dig in range(10):\n",
    "    print('\\t#(%d) = %d' % (dig, np.sum(test_label[:,dig] == 1)))\n",
    "print('Private data:')\n",
    "for dig in range(2):\n",
    "    print('\\t#(%d) = %d' % (dig, np.sum(private_test_label[:,dig] == 1)))\n",
    "    \n",
    "print(private_train_data.shape[1])\n",
    "print(private_test_data.shape[1])"
   ]
  },
  {
   "cell_type": "code",
   "execution_count": 4,
   "metadata": {
    "collapsed": true
   },
   "outputs": [],
   "source": [
    "# # Creating a Keras model to learn private data\n",
    "# from keras.models import Sequential\n",
    "# from keras.layers import Dense, Dropout, Activation, Flatten\n",
    "# from keras.layers import Conv2D, MaxPooling2D\n",
    "# from keras.optimizers import SGD\n",
    "# import tensorflow as tf\n",
    "\n",
    "# # paramters\n",
    "# filename = 'models/mnist'\n",
    "# params = [32, 32, 64, 64, 200, 200]\n",
    "# num_epochs = 10\n",
    "# batch_size = 128\n",
    "# train_temp = 1\n",
    "# init = None\n",
    "# x_dim = private_train_data.shape[1]\n",
    "# y_dim = private_train_label.shape[1]\n",
    "# img_dim = 28\n",
    "# input_c_dim = 1\n",
    "# output_c_dim = 1\n",
    "# input_dim = x_dim\n",
    "# label_dim = y_dim\n",
    "\n",
    "\n",
    "# # Just using tensorflow to reshape the data!\n",
    "# source = tf.placeholder(tf.float32, [None, input_dim], name = \"source_image\")\n",
    "# images = tf.reshape( source, [-1, img_dim, img_dim, input_c_dim])\n",
    "\n",
    "# with tf.Session() as sess:\n",
    "#     private_train_data = sess.run(images, feed_dict = {source : private_train_data})\n",
    "#     private_test_data = sess.run(images, {source : private_test_data})\n",
    "\n",
    "# model = Sequential()\n",
    "\n",
    "# print('New traininig data has shape %s' % str(private_train_data.shape))\n",
    "\n",
    "# model.add(Conv2D(params[0], (3, 3),\n",
    "#                         input_shape=[img_dim,img_dim,input_c_dim]))\n",
    "# model.add(Activation('relu'))\n",
    "# model.add(Conv2D(params[1], (3, 3)))\n",
    "# model.add(Activation('relu'))\n",
    "# model.add(MaxPooling2D(pool_size=(2, 2)))\n",
    "\n",
    "# model.add(Conv2D(params[2], (3, 3)))\n",
    "# model.add(Activation('relu'))\n",
    "# model.add(Conv2D(params[3], (3, 3)))\n",
    "# model.add(Activation('relu'))\n",
    "# model.add(MaxPooling2D(pool_size=(2, 2)))\n",
    "\n",
    "# model.add(Flatten())\n",
    "# model.add(Dense(params[4]))\n",
    "# model.add(Activation('relu'))\n",
    "# model.add(Dropout(0.5))\n",
    "# model.add(Dense(params[5]))\n",
    "# model.add(Activation('relu'))\n",
    "# model.add(Dense(2))\n",
    "\n",
    "# def fn(correct, predicted):\n",
    "#     return tf.nn.softmax_cross_entropy_with_logits(labels=correct,\n",
    "#                                                    logits=predicted/train_temp)\n",
    "\n",
    "# sgd = SGD(lr=0.01, decay=1e-6, momentum=0.9, nesterov=True)\n",
    "\n",
    "# # model.compile(loss=fn,\n",
    "# model.compile(loss= fn,\n",
    "#               optimizer=sgd,\n",
    "#               metrics=['accuracy'])\n",
    "\n",
    "# model.fit(private_train_data, private_train_label,\n",
    "#           batch_size=batch_size,\n",
    "#           validation_data=(private_test_data, private_test_label),\n",
    "#           nb_epoch=num_epochs,\n",
    "#           shuffle=True)"
   ]
  },
  {
   "cell_type": "code",
   "execution_count": 6,
   "metadata": {},
   "outputs": [],
   "source": [
    "# import os\n",
    "# if not os.path.isdir('models'):\n",
    "#     os.makedirs('models')\n",
    "# model.save('models/odd_even')"
   ]
  },
  {
   "cell_type": "code",
   "execution_count": 7,
   "metadata": {},
   "outputs": [
    {
     "name": "stdout",
     "output_type": "stream",
     "text": [
      "Data size: (55000, 784)\n",
      "Label size: (55000, 2)\n",
      "Targeted = False\n",
      "[ 27027.  27973.]\n",
      "55000\n"
     ]
    }
   ],
   "source": [
    "from Dataset2 import Dataset2\n",
    "loader = Dataset2(private_train_data, private_train_label)\n",
    "print(np.sum(loader._label, 0))\n",
    "print(loader._data.shape[0])"
   ]
  }
 ],
 "metadata": {
  "kernelspec": {
   "display_name": "Python 3",
   "language": "python",
   "name": "python3"
  },
  "language_info": {
   "codemirror_mode": {
    "name": "ipython",
    "version": 3
   },
   "file_extension": ".py",
   "mimetype": "text/x-python",
   "name": "python",
   "nbconvert_exporter": "python",
   "pygments_lexer": "ipython3",
   "version": "3.6.1"
  }
 },
 "nbformat": 4,
 "nbformat_minor": 2
}
